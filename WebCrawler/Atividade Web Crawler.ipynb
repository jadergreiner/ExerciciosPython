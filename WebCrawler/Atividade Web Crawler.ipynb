{
 "cells": [
  {
   "cell_type": "markdown",
   "id": "5a73d45f",
   "metadata": {},
   "source": [
    "### Desenvoler um Web Crawler para \"navegar\" nas páginas da Wikipedia"
   ]
  },
  {
   "cell_type": "code",
   "execution_count": 1,
   "id": "c25760e3",
   "metadata": {},
   "outputs": [],
   "source": [
    "## importando as funções\n",
    "from requests import get, post\n",
    "from bs4 import BeautifulSoup"
   ]
  },
  {
   "cell_type": "code",
   "execution_count": 5,
   "id": "5dace30b",
   "metadata": {},
   "outputs": [],
   "source": [
    "# esoclha uma página e faça a raspagem dos dados\n",
    "resposta = get(\"https://pt.wikipedia.org/wiki/Bola\")   \n",
    "tags = BeautifulSoup(resposta.content, \"html5lib\")\n",
    "#tags.prettify\n"
   ]
  },
  {
   "cell_type": "code",
   "execution_count": 6,
   "id": "4298b8a1",
   "metadata": {},
   "outputs": [
    {
     "name": "stdout",
     "output_type": "stream",
     "text": [
      "Página principal: Bola – Wikipédia, a enciclopédia livre\n"
     ]
    }
   ],
   "source": [
    "# imprimir na tela a mensagem \"Página principal: {nome da pagina visitada}\"\n",
    "title = tags.find(\"title\")\n",
    "print(\"Página principal: \" + title.text)"
   ]
  },
  {
   "cell_type": "code",
   "execution_count": 10,
   "id": "aaead26e",
   "metadata": {},
   "outputs": [],
   "source": [
    "# busque no texto da pagina que foi feita a raspagem todos os links que apontem para outras páginas da Wikipedia \n",
    "#(dica, usar a ferramenta de string da aula para identificar as paginas Wiki)\n",
    "#tags = tags.find(id=\"bodyContent\").find_all(\"a\")\n",
    "links = [a['href'] for a in tags if a['href'].find(\"/wiki/\") == 0]\n",
    "visitar = []\n",
    "for c in links:\n",
    "    d = \"https://pt.wikipedia.org\" + c\n",
    "    visitar.append(d)\n"
   ]
  },
  {
   "cell_type": "code",
   "execution_count": 11,
   "id": "9dd7b9e9",
   "metadata": {},
   "outputs": [],
   "source": [
    "# faça uma nova raspagem de cada pagina secundária e imprima o título da página secundária visitada"
   ]
  },
  {
   "cell_type": "code",
   "execution_count": 12,
   "id": "1361772b",
   "metadata": {},
   "outputs": [
    {
     "name": "stdout",
     "output_type": "stream",
     "text": [
      "Página secundária: Bola (desambiguação) – Wikipédia, a enciclopédia livre\n",
      "Página secundária: Ficheiro:Question book-new.svg – Wikipédia, a enciclopédia livre\n",
      "Página secundária: Wikipédia:Livro de estilo/Cite as fontes – Wikipédia, a enciclopédia livre\n",
      "Página secundária: Wikipédia:Livro de estilo/Referências e notas de rodapé – Wikipédia, a enciclopédia livre\n",
      "Página secundária: Wikipédia:Verificabilidade – Wikipédia, a enciclopédia livre\n",
      "Página secundária: Wikipédia:Verificabilidade – Wikipédia, a enciclopédia livre\n",
      "Página secundária: Ficheiro:Ball, പന്ത്.JPG – Wikipédia, a enciclopédia livre\n",
      "Página secundária: Brinquedo – Wikipédia, a enciclopédia livre\n",
      "Página secundária: Esfera – Wikipédia, a enciclopédia livre\n",
      "Página secundária: Criança – Wikipédia, a enciclopédia livre\n",
      "Página secundária: Atleta – Wikipédia, a enciclopédia livre\n",
      "Página secundária: Predefinição:Info/Objeto/Wikidata – Wikipédia, a enciclopédia livre\n",
      "Página secundária: Objeto – Wikipédia, a enciclopédia livre\n",
      "Página secundária: Lazer – Wikipédia, a enciclopédia livre\n",
      "Página secundária: Humano – Wikipédia, a enciclopédia livre\n",
      "Página secundária: Desporto – Wikipédia, a enciclopédia livre\n",
      "Página secundária: Esfera – Wikipédia, a enciclopédia livre\n",
      "Página secundária: Rugby – Wikipédia, a enciclopédia livre\n",
      "Página secundária: Quadrado – Wikipédia, a enciclopédia livre\n",
      "Página secundária: Ar – Wikipédia, a enciclopédia livre\n",
      "Página secundária: Futebol – Wikipédia, a enciclopédia livre\n",
      "Página secundária: Basquetebol – Wikipédia, a enciclopédia livre\n",
      "Página secundária: Sólido – Wikipédia, a enciclopédia livre\n",
      "Página secundária: Bilhar – Wikipédia, a enciclopédia livre\n",
      "Página secundária: Golfe – Wikipédia, a enciclopédia livre\n",
      "Página secundária: Jogo – Wikipédia, a enciclopédia livre\n",
      "Página secundária: Jogador – Wikipédia, a enciclopédia livre\n",
      "Página secundária: Egito – Wikipédia, a enciclopédia livre\n",
      "Página secundária: Grécia – Wikipédia, a enciclopédia livre\n",
      "Página secundária: Império Romano – Wikipédia, a enciclopédia livre\n",
      "Página secundária: Civilização asteca – Wikipédia, a enciclopédia livre\n",
      "Página secundária: América Central – Wikipédia, a enciclopédia livre\n",
      "Página secundária: Basebol – Wikipédia, a enciclopédia livre\n",
      "Página secundária: Basquetebol – Wikipédia, a enciclopédia livre\n",
      "Página secundária: Bocha – Wikipédia, a enciclopédia livre\n",
      "Página secundária: Boliche – Wikipédia, a enciclopédia livre\n",
      "Página secundária: Biribol – Wikipédia, a enciclopédia livre\n",
      "Página secundária: Críquete – Wikipédia, a enciclopédia livre\n",
      "Página secundária: Croquet – Wikipédia, a enciclopédia livre\n",
      "Página secundária: Queimada (jogo) – Wikipédia, a enciclopédia livre\n",
      "Página secundária: Futebol – Wikipédia, a enciclopédia livre\n",
      "Página secundária: Futebol americano – Wikipédia, a enciclopédia livre\n",
      "Página secundária: Futebol australiano – Wikipédia, a enciclopédia livre\n",
      "Página secundária: Futebol de areia – Wikipédia, a enciclopédia livre\n",
      "Página secundária: Futebol gaélico – Wikipédia, a enciclopédia livre\n",
      "Página secundária: Futsal – Wikipédia, a enciclopédia livre\n",
      "Página secundária: Rugby – Wikipédia, a enciclopédia livre\n",
      "Página secundária: Golfe – Wikipédia, a enciclopédia livre\n",
      "Página secundária: Andebol – Wikipédia, a enciclopédia livre\n",
      "Página secundária: Lacrosse – Wikipédia, a enciclopédia livre\n",
      "Página secundária: Netball – Wikipédia, a enciclopédia livre\n",
      "Página secundária: Pelota basca – Wikipédia, a enciclopédia livre\n",
      "Página secundária: Polo – Wikipédia, a enciclopédia livre\n",
      "Página secundária: Polo aquático – Wikipédia, a enciclopédia livre\n",
      "Página secundária: Sinuca – Wikipédia, a enciclopédia livre\n",
      "Página secundária: Softbol – Wikipédia, a enciclopédia livre\n",
      "Página secundária: Squash – Wikipédia, a enciclopédia livre\n",
      "Página secundária: Showbol – Wikipédia, a enciclopédia livre\n",
      "Página secundária: Ténis – Wikipédia, a enciclopédia livre\n",
      "Página secundária: Tênis de mesa – Wikipédia, a enciclopédia livre\n",
      "Página secundária: Voleibol – Wikipédia, a enciclopédia livre\n",
      "Página secundária: Ficheiro:Basketball.png – Wikipédia, a enciclopédia livre\n",
      "Página secundária: Bola de basquete – Wikipédia, a enciclopédia livre\n",
      "Página secundária: Ficheiro:Baseball (crop).jpg – Wikipédia, a enciclopédia livre\n",
      "Página secundária: Bola de beisebol – Wikipédia, a enciclopédia livre\n",
      "Página secundária: Ficheiro:Billiards balls.jpg – Wikipédia, a enciclopédia livre\n",
      "Página secundária: Bilhar – Wikipédia, a enciclopédia livre\n",
      "Página secundária: Ficheiro:Cricket-ball-red-madeinaustralia.jpg – Wikipédia, a enciclopédia livre\n",
      "Página secundária: Críquete – Wikipédia, a enciclopédia livre\n",
      "Página secundária: Ficheiro:Golfball.jpg – Wikipédia, a enciclopédia livre\n",
      "Página secundária: Golfe – Wikipédia, a enciclopédia livre\n",
      "Página secundária: Ficheiro:Balle de hockey sur gazon.jpg – Wikipédia, a enciclopédia livre\n",
      "Página secundária: Hóquei em campo – Wikipédia, a enciclopédia livre\n",
      "Página secundária: Ficheiro:Brine lax ball.jpg – Wikipédia, a enciclopédia livre\n",
      "Página secundária: Lacrosse – Wikipédia, a enciclopédia livre\n",
      "Página secundária: Ficheiro:Softball.jpg – Wikipédia, a enciclopédia livre\n",
      "Página secundária: Softbol – Wikipédia, a enciclopédia livre\n",
      "Página secundária: Ficheiro:Tennis ball 01.jpg – Wikipédia, a enciclopédia livre\n",
      "Página secundária: Bola de tênis – Wikipédia, a enciclopédia livre\n",
      "Página secundária: Ficheiro:Assortment of 40 mm table tennis balls.jpg – Wikipédia, a enciclopédia livre\n",
      "Página secundária: Tênis de mesa – Wikipédia, a enciclopédia livre\n",
      "Página secundária: Ficheiro:Volleyball.jpg – Wikipédia, a enciclopédia livre\n",
      "Página secundária: Voleibol – Wikipédia, a enciclopédia livre\n",
      "Página secundária: Ficheiro:Wilson American football.jpg – Wikipédia, a enciclopédia livre\n",
      "Página secundária: Bola de futebol americano – Wikipédia, a enciclopédia livre\n",
      "Página secundária: Ficheiro:Sherrin.png – Wikipédia, a enciclopédia livre\n",
      "Página secundária: Futebol australiano – Wikipédia, a enciclopédia livre\n",
      "Página secundária: Ficheiro:Rugbyball2.jpg – Wikipédia, a enciclopédia livre\n",
      "Página secundária: Rugby – Wikipédia, a enciclopédia livre\n",
      "Página secundária: Bola (matemática) – Wikipédia, a enciclopédia livre\n",
      "Página secundária: Buckminsterfulereno – Wikipédia, a enciclopédia livre\n",
      "Página secundária: Disco – Wikipédia, a enciclopédia livre\n",
      "Página secundária: Rocha – Wikipédia, a enciclopédia livre\n",
      "Página secundária: Peteca – Wikipédia, a enciclopédia livre\n",
      "Página secundária: Esfera – Wikipédia, a enciclopédia livre\n",
      "Página secundária: Categorias – Wikipédia, a enciclopédia livre\n",
      "Página secundária: Categoria:Bolas – Wikipédia, a enciclopédia livre\n",
      "Página secundária: Categoria:Brinquedos – Wikipédia, a enciclopédia livre\n",
      "Página secundária: Categoria:Objetos – Wikipédia, a enciclopédia livre\n",
      "Página secundária: Categoria:!Artigos que carecem de notas de rodapé desde Dezembro de 2008 – Wikipédia, a enciclopédia livre\n",
      "Página secundária: Categoria:!Artigos que carecem de notas de rodapé sem indicação de tema – Wikipédia, a enciclopédia livre\n",
      "Página secundária: Categoria:!Artigos que utilizam P279 – Wikipédia, a enciclopédia livre\n",
      "Página secundária: Categoria:!Artigos que utilizam P1419 – Wikipédia, a enciclopédia livre\n",
      "Página secundária: Categoria:!Artigos que utilizam P1535 – Wikipédia, a enciclopédia livre\n",
      "Página secundária: Categoria:!Artigos que utilizam P366 – Wikipédia, a enciclopédia livre\n",
      "Página secundária: Categoria:!Artigos que utilizam P18 – Wikipédia, a enciclopédia livre\n"
     ]
    }
   ],
   "source": [
    "sites = []\n",
    "for pv in visitar:\n",
    "    acesso = get(pv)\n",
    "    sites.append(acesso)\n",
    "    tags = BeautifulSoup(acesso.text, \"html5lib\")\n",
    "    title = tags.find(\"title\")\n",
    "    print(\"Página secundária: \" + title.text)"
   ]
  },
  {
   "cell_type": "code",
   "execution_count": null,
   "id": "9a716553",
   "metadata": {},
   "outputs": [],
   "source": []
  }
 ],
 "metadata": {
  "kernelspec": {
   "display_name": "Python 3",
   "language": "python",
   "name": "python3"
  },
  "language_info": {
   "codemirror_mode": {
    "name": "ipython",
    "version": 3
   },
   "file_extension": ".py",
   "mimetype": "text/x-python",
   "name": "python",
   "nbconvert_exporter": "python",
   "pygments_lexer": "ipython3",
   "version": "3.8.8"
  }
 },
 "nbformat": 4,
 "nbformat_minor": 5
}
