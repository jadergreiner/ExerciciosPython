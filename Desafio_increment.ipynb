{
  "nbformat": 4,
  "nbformat_minor": 0,
  "metadata": {
    "colab": {
      "name": "Desafio increment.ipynb",
      "provenance": [],
      "authorship_tag": "ABX9TyOGB2e3uWB6i5pVGVzqcllw",
      "include_colab_link": true
    },
    "kernelspec": {
      "name": "python3",
      "display_name": "Python 3"
    },
    "language_info": {
      "name": "python"
    }
  },
  "cells": [
    {
      "cell_type": "markdown",
      "metadata": {
        "id": "view-in-github",
        "colab_type": "text"
      },
      "source": [
        "<a href=\"https://colab.research.google.com/github/jadergreiner/ExerciciosPython/blob/main/Desafio_increment.ipynb\" target=\"_parent\"><img src=\"https://colab.research.google.com/assets/colab-badge.svg\" alt=\"Open In Colab\"/></a>"
      ]
    },
    {
      "cell_type": "markdown",
      "source": [
        "## Desafio\n",
        "\n",
        "Qual o resultado do código abaixo?\n",
        "\n",
        "```\n",
        "def incremental(a):\n",
        "\n",
        "  a +=1\n",
        "\n",
        "a = 2\n",
        "\n",
        "increment(a)\n",
        "print(a)\n",
        "```"
      ],
      "metadata": {
        "id": "H3kATFUZORZJ"
      }
    },
    {
      "cell_type": "code",
      "execution_count": 1,
      "metadata": {
        "colab": {
          "base_uri": "https://localhost:8080/"
        },
        "id": "baUFhwK0OJfR",
        "outputId": "0ea68e0a-f1e8-4c27-e905-65f3cee2e27d"
      },
      "outputs": [
        {
          "output_type": "stream",
          "name": "stdout",
          "text": [
            "2\n"
          ]
        }
      ],
      "source": [
        "def increment(a):\n",
        "    a += 1\n",
        "    \n",
        "a = 2\n",
        "\n",
        "increment(a)\n",
        "print(a)"
      ]
    },
    {
      "cell_type": "markdown",
      "source": [
        "O resultado é 2. O increment não está funcionando? \n",
        "\n",
        "Na verdade, se observar bem, não estamos retornando nada em nossa função. Estamos salvando dentro dela.\n",
        "Vou jogar o print dentro da função."
      ],
      "metadata": {
        "id": "WnrmEWwBO_IN"
      }
    },
    {
      "cell_type": "code",
      "source": [
        "def increment(a):\n",
        "    a += 1\n",
        "\n",
        "    print(\"Print dentro da função >\", a)\n",
        "    \n",
        "a = 2\n",
        "\n",
        "increment(a)\n",
        "print(\"Print fora da função \", a)"
      ],
      "metadata": {
        "colab": {
          "base_uri": "https://localhost:8080/"
        },
        "id": "9l7Tq0wzPVFF",
        "outputId": "d2a5a4bf-39d9-4f9a-f7fb-488dbef3de28"
      },
      "execution_count": 3,
      "outputs": [
        {
          "output_type": "stream",
          "name": "stdout",
          "text": [
            "Print dentro da função > 3\n",
            "Print fora da função  2\n"
          ]
        }
      ]
    },
    {
      "cell_type": "markdown",
      "source": [
        "Vamos colocar o parâmetro de return agora e executa o código original"
      ],
      "metadata": {
        "id": "18RnzKSFPkWM"
      }
    },
    {
      "cell_type": "code",
      "source": [
        "def increment(a):\n",
        "    a += 1\n",
        "\n",
        "    return a\n",
        "    \n",
        "a = 2\n",
        "\n",
        "increment(a)\n",
        "print(a)"
      ],
      "metadata": {
        "colab": {
          "base_uri": "https://localhost:8080/"
        },
        "id": "tHtNiApTPt25",
        "outputId": "b3f1a45b-731c-4f6e-9ec6-ed10045c4730"
      },
      "execution_count": 7,
      "outputs": [
        {
          "output_type": "stream",
          "name": "stdout",
          "text": [
            "2\n"
          ]
        }
      ]
    },
    {
      "cell_type": "markdown",
      "source": [
        "### Tá, mas ainda não funcionou! Sim, por tem algo importante. Não estamos atribuindo um novo valor a variável, estamos executando sem salvar.\n",
        "\n",
        "Podemos fazer isso de várias formas, aqui vou simplificar criando uma nova variável."
      ],
      "metadata": {
        "id": "q_N8LVjzQLYy"
      }
    },
    {
      "cell_type": "code",
      "source": [
        "def increment(a):\n",
        "    a += 1\n",
        "\n",
        "    return a\n",
        "    \n",
        "a = 2\n",
        "\n",
        "b = increment(a)\n",
        "\n",
        "print(a)\n",
        "print(b)"
      ],
      "metadata": {
        "colab": {
          "base_uri": "https://localhost:8080/"
        },
        "id": "JUQHtESsQCyh",
        "outputId": "0d3344ce-cd2a-424e-fe1f-7725fe3ac585"
      },
      "execution_count": 8,
      "outputs": [
        {
          "output_type": "stream",
          "name": "stdout",
          "text": [
            "2\n",
            "3\n"
          ]
        }
      ]
    }
  ]
}