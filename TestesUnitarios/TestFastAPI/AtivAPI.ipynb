{
 "cells": [
  {
   "cell_type": "markdown",
   "id": "ff972b5d",
   "metadata": {},
   "source": [
    "## Enviando requisições para a API do fastAPI"
   ]
  },
  {
   "cell_type": "markdown",
   "id": "5aa704cc",
   "metadata": {},
   "source": [
    "### Nossa API recebe dois números inteiros e faz uma operação matemática"
   ]
  },
  {
   "cell_type": "code",
   "execution_count": 1,
   "id": "5c41c137",
   "metadata": {},
   "outputs": [],
   "source": [
    "from requests import get, post"
   ]
  },
  {
   "cell_type": "code",
   "execution_count": 2,
   "id": "f8d0464d",
   "metadata": {},
   "outputs": [],
   "source": [
    "resp = get(\"http://127.0.0.1:8000\")"
   ]
  },
  {
   "cell_type": "code",
   "execution_count": 3,
   "id": "379a6de7",
   "metadata": {},
   "outputs": [
    {
     "data": {
      "text/plain": [
       "'{\"message\":\"API para cálculos matemáticos. Informe dois números inteiros e a operação no formato string (somar, subtrair, dividir, multiplicar)\"}'"
      ]
     },
     "execution_count": 3,
     "metadata": {},
     "output_type": "execute_result"
    }
   ],
   "source": [
    "resp.text"
   ]
  },
  {
   "cell_type": "markdown",
   "id": "636e6e34",
   "metadata": {},
   "source": [
    "## vamos enviar o JSON conforme layout da nossa API"
   ]
  },
  {
   "cell_type": "code",
   "execution_count": 4,
   "id": "32a9b68c",
   "metadata": {},
   "outputs": [],
   "source": [
    "resp = post(\"http://127.0.0.1:8000/rota\", json = {\"valor1\" : 5, \"valor2\" : 6, \"operacao\" : \"somar\"})"
   ]
  },
  {
   "cell_type": "code",
   "execution_count": 7,
   "id": "fde0fe40",
   "metadata": {},
   "outputs": [
    {
     "data": {
      "text/plain": [
       "'\"O resultado da operação é 11\"'"
      ]
     },
     "execution_count": 7,
     "metadata": {},
     "output_type": "execute_result"
    }
   ],
   "source": [
    "resp.text"
   ]
  },
  {
   "cell_type": "markdown",
   "id": "24a7c5ef",
   "metadata": {},
   "source": [
    "# Agora vou abrir a documentação e testar direto nos docs :D"
   ]
  },
  {
   "cell_type": "code",
   "execution_count": null,
   "id": "3b4ee1c0",
   "metadata": {},
   "outputs": [],
   "source": []
  }
 ],
 "metadata": {
  "kernelspec": {
   "display_name": "Python 3",
   "language": "python",
   "name": "python3"
  },
  "language_info": {
   "codemirror_mode": {
    "name": "ipython",
    "version": 3
   },
   "file_extension": ".py",
   "mimetype": "text/x-python",
   "name": "python",
   "nbconvert_exporter": "python",
   "pygments_lexer": "ipython3",
   "version": "3.8.8"
  }
 },
 "nbformat": 4,
 "nbformat_minor": 5
}
