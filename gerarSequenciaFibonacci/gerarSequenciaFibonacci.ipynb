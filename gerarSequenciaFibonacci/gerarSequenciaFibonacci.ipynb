{
 "cells": [
  {
   "cell_type": "markdown",
   "id": "9c4c1b3b",
   "metadata": {},
   "source": [
    "## Classe que gera a Sequencia de Fibonacci\n",
    "\n",
    "## Orientações:\n",
    " * Vai solicitar inicialmente que informe a sequência que deseja gerar\n",
    "    * A sequência parte sempre de 0,1, ou seja, vai reduzir dois números do informado para o total da sequência seja equivalente ao informado\n",
    "* Ao final ele vai montar um dicionário com chave = posição da fibo e valor é o número da sequência gerada    "
   ]
  },
  {
   "cell_type": "markdown",
   "id": "6ea23233",
   "metadata": {},
   "source": [
    "# Vou inicilizar a classe abaixo "
   ]
  },
  {
   "cell_type": "code",
   "execution_count": 1,
   "id": "39707186",
   "metadata": {},
   "outputs": [
    {
     "name": "stdout",
     "output_type": "stream",
     "text": [
      "A partir do 0 e 1, quantos números da sequencia Fibbo deseja gerar?5\n"
     ]
    }
   ],
   "source": [
    "## criando a classe para o iterador e next a partir do número informado\n",
    "class GeraFibo():\n",
    "    qtde = int(input('A partir do 0 e 1, quantos números da sequencia Fibbo deseja gerar?'))\n",
    "\n",
    "## cria o objeto de iteração    \n",
    "    def __iter__(self):\n",
    "        self.var = self.qtde -2\n",
    "        self.a1 = 0\n",
    "        self.a2 = 1\n",
    "        self.lista = [self.a1,self.a2]\n",
    "        \n",
    "        return self\n",
    "\n",
    "## avança na sequência, calculando o próximo número da sequência Fibonacci e adicionando a uma lista. Ao fim, atualiza as \n",
    "## variavie anterior e próximo e subtrai do iterador    \n",
    "    def __next__(self):\n",
    "        \n",
    "        proximo = self.a1 + self.a2\n",
    "        self.lista.append(proximo)\n",
    "        self.var -= 1\n",
    "        self.a1 = self.a2\n",
    "        self.a2 = proximo\n",
    "        \n",
    "## verifica se o iterador chegou a zero, monta a lista e encerra o processo com raise        \n",
    "        if self.var == 0:\n",
    "            fibbo2 = {k+1 : v for k,v in enumerate(self.lista)}\n",
    "            print(fibbo2)\n",
    "            raise StopIteration\n",
    "            \n",
    "                          \n",
    "        return self.var\n",
    "        \n",
    "        "
   ]
  },
  {
   "cell_type": "markdown",
   "id": "9f9eb977",
   "metadata": {},
   "source": [
    "# # Com a classe inicializada, vou criar um objeto e salvar como cont.\n",
    "\n",
    "## no gerar_numeros vou começar a iterar, a partir do número informado "
   ]
  },
  {
   "cell_type": "code",
   "execution_count": 2,
   "id": "7feffa29",
   "metadata": {},
   "outputs": [],
   "source": [
    "cont = GeraFibo()\n",
    "gerar_numeros = iter(cont)"
   ]
  },
  {
   "cell_type": "markdown",
   "id": "0c78343f",
   "metadata": {},
   "source": [
    "## através do next vou avançando até chegar ao último número da sequência.\n",
    "## assim que o gerarmos todos os números da sequência, será salvo num dicionário, aonde a chave é a posição e o valor é o número fibonacci"
   ]
  },
  {
   "cell_type": "code",
   "execution_count": 5,
   "id": "1e6b6719",
   "metadata": {},
   "outputs": [
    {
     "name": "stdout",
     "output_type": "stream",
     "text": [
      "{1: 0, 2: 1, 3: 1, 4: 2, 5: 3}\n"
     ]
    },
    {
     "ename": "StopIteration",
     "evalue": "",
     "output_type": "error",
     "traceback": [
      "\u001b[1;31m---------------------------------------------------------------------------\u001b[0m",
      "\u001b[1;31mStopIteration\u001b[0m                             Traceback (most recent call last)",
      "\u001b[1;32m<ipython-input-5-73a6d00719d2>\u001b[0m in \u001b[0;36m<module>\u001b[1;34m\u001b[0m\n\u001b[1;32m----> 1\u001b[1;33m \u001b[0mnext\u001b[0m\u001b[1;33m(\u001b[0m\u001b[0mcont\u001b[0m\u001b[1;33m)\u001b[0m\u001b[1;33m\u001b[0m\u001b[1;33m\u001b[0m\u001b[0m\n\u001b[0m",
      "\u001b[1;32m<ipython-input-1-67304d06cca0>\u001b[0m in \u001b[0;36m__next__\u001b[1;34m(self)\u001b[0m\n\u001b[0;32m     26\u001b[0m             \u001b[0mfibbo2\u001b[0m \u001b[1;33m=\u001b[0m \u001b[1;33m{\u001b[0m\u001b[0mk\u001b[0m\u001b[1;33m+\u001b[0m\u001b[1;36m1\u001b[0m \u001b[1;33m:\u001b[0m \u001b[0mv\u001b[0m \u001b[1;32mfor\u001b[0m \u001b[0mk\u001b[0m\u001b[1;33m,\u001b[0m\u001b[0mv\u001b[0m \u001b[1;32min\u001b[0m \u001b[0menumerate\u001b[0m\u001b[1;33m(\u001b[0m\u001b[0mself\u001b[0m\u001b[1;33m.\u001b[0m\u001b[0mlista\u001b[0m\u001b[1;33m)\u001b[0m\u001b[1;33m}\u001b[0m\u001b[1;33m\u001b[0m\u001b[1;33m\u001b[0m\u001b[0m\n\u001b[0;32m     27\u001b[0m             \u001b[0mprint\u001b[0m\u001b[1;33m(\u001b[0m\u001b[0mfibbo2\u001b[0m\u001b[1;33m)\u001b[0m\u001b[1;33m\u001b[0m\u001b[1;33m\u001b[0m\u001b[0m\n\u001b[1;32m---> 28\u001b[1;33m             \u001b[1;32mraise\u001b[0m \u001b[0mStopIteration\u001b[0m\u001b[1;33m\u001b[0m\u001b[1;33m\u001b[0m\u001b[0m\n\u001b[0m\u001b[0;32m     29\u001b[0m \u001b[1;33m\u001b[0m\u001b[0m\n\u001b[0;32m     30\u001b[0m \u001b[1;33m\u001b[0m\u001b[0m\n",
      "\u001b[1;31mStopIteration\u001b[0m: "
     ]
    }
   ],
   "source": [
    "next(cont)"
   ]
  },
  {
   "cell_type": "code",
   "execution_count": null,
   "id": "358b3ef8",
   "metadata": {},
   "outputs": [],
   "source": []
  }
 ],
 "metadata": {
  "kernelspec": {
   "display_name": "Python 3",
   "language": "python",
   "name": "python3"
  },
  "language_info": {
   "codemirror_mode": {
    "name": "ipython",
    "version": 3
   },
   "file_extension": ".py",
   "mimetype": "text/x-python",
   "name": "python",
   "nbconvert_exporter": "python",
   "pygments_lexer": "ipython3",
   "version": "3.8.8"
  }
 },
 "nbformat": 4,
 "nbformat_minor": 5
}
