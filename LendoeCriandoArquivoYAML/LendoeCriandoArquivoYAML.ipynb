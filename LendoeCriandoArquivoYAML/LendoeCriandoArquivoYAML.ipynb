{
 "cells": [
  {
   "cell_type": "markdown",
   "id": "11f8f8ff",
   "metadata": {},
   "source": [
    "# Desenvolva um WebScraper para obter um arquivo YAML:\n",
    "### * Realize a raspagem dos dados da página http://www.w3schools.io/file/yaml-sample-example/\n",
    "### * Extraia o exemplo de arquivo YAML da página\n",
    "### * Utilize REGEX para extrair os comentários contidos no exemplo e imprima na tela\n",
    "### * Escreva um arquivo YAML os exemplos extraídos do arquivoYAML\n"
   ]
  },
  {
   "cell_type": "code",
   "execution_count": 148,
   "id": "adaad539",
   "metadata": {},
   "outputs": [],
   "source": [
    "# Realize a raspagem dos dados da página http://www.w3schools.io/file/yaml-sample-example/\n",
    "## importando as funções\n",
    "from requests import get, post\n",
    "from bs4 import BeautifulSoup\n",
    "from yaml import load, FullLoader, dump\n",
    "from re import findall, search\n",
    "\n",
    "# A pagina citada na aula está apresentando um erro ao ser acessada pelo navegador, usei a página abaixo\n",
    "\n",
    "resposta = get(\"https://docs.microsoft.com/pt-br/azure/devops/pipelines/yaml-schema?view=azure-devops&tabs=schema%2Cparameter-schema\")   \n",
    "tags = BeautifulSoup(resposta.text, \"html5lib\")\n",
    "\n",
    "yaml = tags.find_all(\"code\", attrs = {\"class\" : \"lang-yaml\"})"
   ]
  },
  {
   "cell_type": "code",
   "execution_count": 149,
   "id": "2d96b5b0",
   "metadata": {},
   "outputs": [],
   "source": [
    "# Extraia o exemplo de arquivo YAML da página\n",
    "# o arquivo segue em anexo, na página existia uma opção copiar\n",
    "with open(\"modelo.yml\") as file:\n",
    "    yaml_file = load(file, Loader=FullLoader)"
   ]
  },
  {
   "cell_type": "code",
   "execution_count": 150,
   "id": "6e47066c",
   "metadata": {},
   "outputs": [
    {
     "name": "stdout",
     "output_type": "stream",
     "text": [
      "[' # by specifying an empty array, this ']\n"
     ]
    }
   ],
   "source": [
    "#Utilize REGEX para extrair os comentários contidos no exemplo e imprima na tela\n",
    "# copiei o texto abaixo pois no importar ele ignora os comentários\n",
    "yaml2str = (\"\"\"stages:\n",
    "- stage: BuildWin\n",
    "  displayName: Build for Windows\n",
    "- stage: BuildMac\n",
    "  displayName: Build for Mac\n",
    "  dependsOn: [] # by specifying an empty array, this stage doesn't depend on the stage before it\"\"\" )\n",
    "\n",
    "padrao = r\"\\W#....................................\"\n",
    "print(findall(padrao, yaml2str))"
   ]
  },
  {
   "cell_type": "code",
   "execution_count": 151,
   "id": "c3395f3d",
   "metadata": {},
   "outputs": [],
   "source": [
    "# Escreva um arquivo YAML os exemplos extraídos do arquivoYAML"
   ]
  },
  {
   "cell_type": "code",
   "execution_count": 142,
   "id": "28fdaf63",
   "metadata": {},
   "outputs": [],
   "source": [
    "dict2yaml = {'stages': [{'stage': 'BuildWin', 'displayName': 'Build for Windows'},\n",
    "  {'stage': 'BuildMac', 'displayName': 'Build for Mac', 'dependsOn': []}]}"
   ]
  },
  {
   "cell_type": "code",
   "execution_count": 152,
   "id": "bf904e43",
   "metadata": {},
   "outputs": [],
   "source": [
    "with open(\"novo_yaml.yml\", \"w\") as file:\n",
    "    dump(dict2yaml, file)"
   ]
  },
  {
   "cell_type": "code",
   "execution_count": null,
   "id": "41c35dfe",
   "metadata": {},
   "outputs": [],
   "source": []
  }
 ],
 "metadata": {
  "kernelspec": {
   "display_name": "Python 3",
   "language": "python",
   "name": "python3"
  },
  "language_info": {
   "codemirror_mode": {
    "name": "ipython",
    "version": 3
   },
   "file_extension": ".py",
   "mimetype": "text/x-python",
   "name": "python",
   "nbconvert_exporter": "python",
   "pygments_lexer": "ipython3",
   "version": "3.8.8"
  }
 },
 "nbformat": 4,
 "nbformat_minor": 5
}
