{
 "cells": [
  {
   "cell_type": "code",
   "execution_count": null,
   "id": "ffed657f",
   "metadata": {},
   "outputs": [],
   "source": [
    "# instalando a biblioteca\n",
    "#!pip install troposphere"
   ]
  },
  {
   "cell_type": "code",
   "execution_count": 1,
   "id": "1d0687b9",
   "metadata": {},
   "outputs": [],
   "source": [
    "# importando os modulos\n",
    "from troposphere import Ref, Template, ec2"
   ]
  },
  {
   "cell_type": "code",
   "execution_count": 2,
   "id": "f7945e84",
   "metadata": {},
   "outputs": [],
   "source": [
    "# criando um template\n",
    "template = Template()"
   ]
  },
  {
   "cell_type": "code",
   "execution_count": 3,
   "id": "3945fdf3",
   "metadata": {},
   "outputs": [
    {
     "data": {
      "text/plain": [
       "<troposphere.ec2.Instance at 0x1f77b411d60>"
      ]
     },
     "execution_count": 3,
     "metadata": {},
     "output_type": "execute_result"
    }
   ],
   "source": [
    "# criando as instâncias\n",
    "instancia1 = ec2.Instance(\n",
    "    \"server1\",\n",
    "    ImageId=\"ami-01ebc0c10725bf4b7\",\n",
    "    InstanceType=\"t2.micro\")\n",
    "\n",
    "instancia2 = ec2.Instance(\n",
    "    \"server2\",\n",
    "    ImageId=\"ami-0eeb760abccf51451\",\n",
    "    SecurityGroups=[\"default\"],\n",
    "    InstanceType=\"t2.micro\")\n",
    "\n",
    "instancia3 = ec2.Instance(\n",
    "    \"server3\",\n",
    "    ImageId=\"ami-0d3897f0ac52a395b\",\n",
    "    InstanceType=\"t2.micro\")\n",
    "\n",
    "instancia4 = ec2.Instance(\n",
    "    \"server4\",\n",
    "    ImageId=\"ami-0fc3f161aad864488\",\n",
    "    InstanceType=\"t2.micro\")\n",
    "\n",
    "instancia5 = ec2.Instance(\n",
    "    \"server5\",\n",
    "    ImageId=\"ami-0096c2ab70593cfa1\",\n",
    "    InstanceType=\"t2.micro\")\n",
    "    \n",
    "\n",
    "template.add_resource(instancia1)\n",
    "template.add_resource(instancia2)\n",
    "template.add_resource(instancia3,)\n",
    "template.add_resource(instancia4)\n",
    "template.add_resource(instancia5)\n"
   ]
  },
  {
   "cell_type": "code",
   "execution_count": 4,
   "id": "56393ed1",
   "metadata": {},
   "outputs": [],
   "source": [
    "#printando o yaml\n",
    "from pprint import pprint"
   ]
  },
  {
   "cell_type": "code",
   "execution_count": 5,
   "id": "6b7bce25",
   "metadata": {},
   "outputs": [
    {
     "name": "stdout",
     "output_type": "stream",
     "text": [
      "('Resources:\\n'\n",
      " '  server1:\\n'\n",
      " '    Properties:\\n'\n",
      " '      ImageId: ami-01ebc0c10725bf4b7\\n'\n",
      " '      InstanceType: t2.micro\\n'\n",
      " '    Type: AWS::EC2::Instance\\n'\n",
      " '  server2:\\n'\n",
      " '    Properties:\\n'\n",
      " '      ImageId: ami-0eeb760abccf51451\\n'\n",
      " '      InstanceType: t2.micro\\n'\n",
      " '      SecurityGroups:\\n'\n",
      " '        - default\\n'\n",
      " '    Type: AWS::EC2::Instance\\n'\n",
      " '  server3:\\n'\n",
      " '    Properties:\\n'\n",
      " '      ImageId: ami-0d3897f0ac52a395b\\n'\n",
      " '      InstanceType: t2.micro\\n'\n",
      " '    Type: AWS::EC2::Instance\\n'\n",
      " '  server4:\\n'\n",
      " '    Properties:\\n'\n",
      " '      ImageId: ami-0fc3f161aad864488\\n'\n",
      " '      InstanceType: t2.micro\\n'\n",
      " '    Type: AWS::EC2::Instance\\n'\n",
      " '  server5:\\n'\n",
      " '    Properties:\\n'\n",
      " '      ImageId: ami-0096c2ab70593cfa1\\n'\n",
      " '      InstanceType: t2.micro\\n'\n",
      " '    Type: AWS::EC2::Instance\\n')\n"
     ]
    }
   ],
   "source": [
    "pprint(template.to_yaml())"
   ]
  },
  {
   "cell_type": "code",
   "execution_count": null,
   "id": "c425aa59",
   "metadata": {},
   "outputs": [],
   "source": []
  },
  {
   "cell_type": "code",
   "execution_count": null,
   "id": "dd0db848",
   "metadata": {},
   "outputs": [],
   "source": []
  }
 ],
 "metadata": {
  "kernelspec": {
   "display_name": "Python 3",
   "language": "python",
   "name": "python3"
  },
  "language_info": {
   "codemirror_mode": {
    "name": "ipython",
    "version": 3
   },
   "file_extension": ".py",
   "mimetype": "text/x-python",
   "name": "python",
   "nbconvert_exporter": "python",
   "pygments_lexer": "ipython3",
   "version": "3.8.8"
  }
 },
 "nbformat": 4,
 "nbformat_minor": 5
}
