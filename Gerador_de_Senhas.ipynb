{
  "nbformat": 4,
  "nbformat_minor": 0,
  "metadata": {
    "colab": {
      "name": "Gerador de Senhas.ipynb",
      "provenance": [],
      "authorship_tag": "ABX9TyNI5vSk3cC+9RuJPYzS/ZC1",
      "include_colab_link": true
    },
    "kernelspec": {
      "name": "python3",
      "display_name": "Python 3"
    },
    "language_info": {
      "name": "python"
    }
  },
  "cells": [
    {
      "cell_type": "markdown",
      "metadata": {
        "id": "view-in-github",
        "colab_type": "text"
      },
      "source": [
        "<a href=\"https://colab.research.google.com/github/jadergreiner/ExerciciosPython/blob/main/Gerador_de_Senhas.ipynb\" target=\"_parent\"><img src=\"https://colab.research.google.com/assets/colab-badge.svg\" alt=\"Open In Colab\"/></a>"
      ]
    },
    {
      "cell_type": "markdown",
      "source": [
        "# Gerador de senhas\n",
        "\n",
        "## Mentorado por Bruno Dias no curso Segurança da informação com Python da Digital Innovation"
      ],
      "metadata": {
        "id": "OUPWZBn8OhgK"
      }
    },
    {
      "cell_type": "code",
      "execution_count": 1,
      "metadata": {
        "colab": {
          "base_uri": "https://localhost:8080/"
        },
        "id": "Th2kYvhCOWHc",
        "outputId": "eebe5045-5c98-4461-f1d7-9102d99c73ce"
      },
      "outputs": [
        {
          "output_type": "stream",
          "name": "stdout",
          "text": [
            "Digite o tamanho de dígitos da senha: 15\n",
            "VYGeç#VSt2Ofçç!\n"
          ]
        }
      ],
      "source": [
        "import random, string\n",
        "\n",
        "tamanho = int(input(\"Digite o tamanho de dígitos da senha: \"))\n",
        "\n",
        "chars = string.ascii_letters + string.digits + '!@#$%&*()-=+?ç'\n",
        "\n",
        "rnd = random.SystemRandom()\n",
        "\n",
        "print(''.join(rnd.choice(chars) for i in range (tamanho)))"
      ]
    }
  ]
}