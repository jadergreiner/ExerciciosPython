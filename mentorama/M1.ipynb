{
 "cells": [
  {
   "cell_type": "markdown",
   "id": "039ff0e1",
   "metadata": {},
   "source": [
    "1.\tFaça um programa que imprima seu nome completo na tela"
   ]
  },
  {
   "cell_type": "code",
   "execution_count": 56,
   "id": "db94c5af",
   "metadata": {},
   "outputs": [
    {
     "name": "stdout",
     "output_type": "stream",
     "text": [
      "Jader Raul Greiner\n"
     ]
    }
   ],
   "source": [
    "print('Jader Raul Greiner')"
   ]
  },
  {
   "cell_type": "markdown",
   "id": "6b8ab9fe",
   "metadata": {},
   "source": [
    "2.\tEscreva um programa que exiba o resultado de 5a x 3b onde a = 2 e b = 5"
   ]
  },
  {
   "cell_type": "code",
   "execution_count": 57,
   "id": "e4b6fc06",
   "metadata": {},
   "outputs": [
    {
     "name": "stdout",
     "output_type": "stream",
     "text": [
      "O resultado é 150\n"
     ]
    }
   ],
   "source": [
    "a = 2\n",
    "b = 5\n",
    "r = (5*a) * (3*b)\n",
    "print(\"O resultado é %d\" %r)"
   ]
  },
  {
   "cell_type": "markdown",
   "id": "a6c7b525",
   "metadata": {},
   "source": [
    "3.\tModifique o primeiro programa, inserindo uma terceira variável c = 5 e imprime a soma das três variáveis"
   ]
  },
  {
   "cell_type": "code",
   "execution_count": 58,
   "id": "1e13eb5d",
   "metadata": {},
   "outputs": [
    {
     "name": "stdout",
     "output_type": "stream",
     "text": [
      "12\n"
     ]
    }
   ],
   "source": [
    "c = 5\n",
    "soma = a + b + c\n",
    "print(soma)"
   ]
  },
  {
   "cell_type": "markdown",
   "id": "84503210",
   "metadata": {},
   "source": [
    "4.\tEscreva um programa que leia dois números e que pergunte qual operação você deseja realizar. Você deve poder calcular a soma (+), subtração(-), multiplicação(*) e divisão(/). Exiba o resultado da operação.\n"
   ]
  },
  {
   "cell_type": "code",
   "execution_count": 59,
   "id": "46b7413b",
   "metadata": {},
   "outputs": [
    {
     "name": "stdout",
     "output_type": "stream",
     "text": [
      " VAMOS FAZER CONTA\n",
      "VOCÊ IRÁ INFORMAR DOIS NÚMEROS E DEPOIS INFORMAR QUAL OPERAÇÃO DESEJA FAZER\n",
      "Digite o primeiro número10\n",
      "Digite o segundo número2\n",
      "Qual operação deseja fazer (soma (+), subtração(-), multiplicação(*) e divisão(/))div\n",
      "div\n",
      "a1 =  10\n",
      "a2 =  2\n",
      "Você escolheu div e o resultado foi 5.0\n"
     ]
    }
   ],
   "source": [
    "print(\"\"\" VAMOS FAZER CONTA\n",
    "VOCÊ IRÁ INFORMAR DOIS NÚMEROS E DEPOIS INFORMAR QUAL OPERAÇÃO DESEJA FAZER\"\"\")\n",
    "a1 = int(input(\"Digite o primeiro número\"))\n",
    "a2 = int(input(\"Digite o segundo número\"))\n",
    "operacao = str(input(\"Qual operação deseja fazer (soma (+), subtração(-), multiplicação(*) e divisão(/))\"))\n",
    "print(operacao)\n",
    "if (operacao in \"soma\"):\n",
    "    result = a1 + a2\n",
    "elif (operacao in \"subtracao\"):     \n",
    "    result = a1 - a2\n",
    "elif (operacao in \"multiplicacao\"):     \n",
    "    result = a1 * a2\n",
    "elif (operacao in \"divisao\"):     \n",
    "    result = a1 / a2\n",
    "print(\"a1 = \",a1)\n",
    "print(\"a2 = \",a2)\n",
    "print (\"Você escolheu %s\" %operacao, \"e o resultado foi %s\" %result)       \n",
    "    "
   ]
  },
  {
   "cell_type": "markdown",
   "id": "84286754",
   "metadata": {},
   "source": [
    "5.\tEscreva um programa em Python para contar de 1 até 10. \n",
    "\n",
    "a) usando a instrução while \n",
    "b) usando a instrução for e a função range "
   ]
  },
  {
   "cell_type": "code",
   "execution_count": 60,
   "id": "a98b04d0",
   "metadata": {},
   "outputs": [
    {
     "name": "stdout",
     "output_type": "stream",
     "text": [
      "Contador usando while\n",
      "1\n",
      "2\n",
      "3\n",
      "4\n",
      "5\n",
      "6\n",
      "7\n",
      "8\n",
      "9\n",
      "10\n"
     ]
    }
   ],
   "source": [
    "i = 1\n",
    "print(\"Contador usando while\")\n",
    "while i<= 10:\n",
    "    print (i)\n",
    "    i+=1\n"
   ]
  },
  {
   "cell_type": "code",
   "execution_count": 61,
   "id": "f5ec7712",
   "metadata": {},
   "outputs": [
    {
     "name": "stdout",
     "output_type": "stream",
     "text": [
      "Contador usando for e range\n",
      "1\n",
      "2\n",
      "3\n",
      "4\n",
      "5\n",
      "6\n",
      "7\n",
      "8\n",
      "9\n",
      "10\n"
     ]
    }
   ],
   "source": [
    "print(\"Contador usando for e range\")\n",
    "\n",
    "contador=1\n",
    "for elemento in range(0,10):\n",
    "    print(contador)\n",
    "    contador=contador+1"
   ]
  },
  {
   "cell_type": "markdown",
   "id": "a92a911e",
   "metadata": {},
   "source": [
    "6.\tEscreva um programa para contar quantos números pares e ímpares existentes entre 1 e 10 bem como a soma deles. \n",
    "\n",
    "a) usando a instrução while \n",
    "b) usando a instrução for e as funções range e sum "
   ]
  },
  {
   "cell_type": "code",
   "execution_count": 95,
   "id": "f2c67605",
   "metadata": {},
   "outputs": [
    {
     "name": "stdout",
     "output_type": "stream",
     "text": [
      " // a soma dos pares é igual a  30 // e os números são [2, 4, 6, 8, 10]\n",
      " // a soma dos impares é igual a  25 // e os números são [1, 3, 5, 7, 9]\n"
     ]
    }
   ],
   "source": [
    "n=1\n",
    "I=0\n",
    "P=0\n",
    "P1=[]\n",
    "I1=[]\n",
    "while n<=10:\n",
    "        if n % 2 == 0:\n",
    "            P1.append(n)\n",
    "        else:\n",
    "            I1.append(n)\n",
    "        n = n +1\n",
    "print(\" // a soma dos pares é igual a \",sum(P1), \"// e os números são\", P1)   \n",
    "print(\" // a soma dos impares é igual a \",sum(I1), \"// e os números são\", I1)   "
   ]
  },
  {
   "cell_type": "code",
   "execution_count": 106,
   "id": "988b2742",
   "metadata": {},
   "outputs": [
    {
     "name": "stdout",
     "output_type": "stream",
     "text": [
      " // a soma dos pares é igual a  30 // e os números são [2, 4, 6, 8, 10]\n",
      " // a soma dos impares é igual a  25 // e os números são [1, 3, 5, 7, 9]\n"
     ]
    }
   ],
   "source": [
    "P1=[]\n",
    "I1=[]\n",
    "for x in range(1,11):\n",
    "    if x % 2 == 0:\n",
    "        P1.append(x)\n",
    "    else:\n",
    "        I1.append(x)\n",
    "    x = x +1\n",
    "print(\" // a soma dos pares é igual a \",sum(P1), \"// e os números são\", P1)   \n",
    "print(\" // a soma dos impares é igual a \",sum(I1), \"// e os números são\", I1)   "
   ]
  },
  {
   "cell_type": "markdown",
   "id": "737f3014",
   "metadata": {},
   "source": [
    "7.\tEscreva um programa para resolver equações do segundo grau representadas por ax2+bx+c usando a Fórmula de Bhaskara. \n",
    "\n",
    "a) sem usar o módulo math \n",
    "b) usando o módulo math \n",
    "c)Teste seu programa com os coeficientes: \n",
    "\n",
    "a=1,b=-5,c=6 \n",
    "a=1,b=0,c=-9 \n",
    "a=5,b=-45,c=0 \n",
    "a=1,b=-1,c=-12 \n",
    "a=1,b=-6,c=10 "
   ]
  },
  {
   "cell_type": "code",
   "execution_count": 107,
   "id": "6440074c",
   "metadata": {},
   "outputs": [
    {
     "name": "stdout",
     "output_type": "stream",
     "text": [
      "SEM MÓDULO MATH\n",
      "x1: 3.0, x2: 2.0\n"
     ]
    }
   ],
   "source": [
    "a=1\n",
    "b=-5\n",
    "c=6\n",
    "delta = (b ** 2) - 4 * a * c\n",
    "\n",
    "if delta < 0:\n",
    "    print(\"Sem raízes reais\")\n",
    "else:\n",
    "    x1 = (-b + delta ** (1 / 2)) / (2 * a)\n",
    "    x2 = (-b - delta ** (1 / 2)) / (2 * a)\n",
    "\n",
    "    print(\"SEM MÓDULO MATH\")\n",
    "    print(\"x1: {}, x2: {}\".format(x1, x2))"
   ]
  },
  {
   "cell_type": "code",
   "execution_count": 67,
   "id": "5eba9922",
   "metadata": {},
   "outputs": [
    {
     "name": "stdout",
     "output_type": "stream",
     "text": [
      "usando MÓDULO MATH\n",
      "x1: 3.0, x2: 2.0\n"
     ]
    }
   ],
   "source": [
    "import math\n",
    "a=1\n",
    "b=-5\n",
    "c=6\n",
    "delta = (b ** 2) - 4 * a * c\n",
    "\n",
    "if delta < 0:\n",
    "        print (\"Sem raízes reais\")      \n",
    "else :\n",
    "    x=math.sqrt(delta)\n",
    "    x1=(-b+delta)/(2*a)\n",
    "    x2=(-b-delta)/(2*a)\n",
    "print(\"usando MÓDULO MATH\")\n",
    "print(\"x1: {}, x2: {}\".format(x1, x2))"
   ]
  },
  {
   "cell_type": "markdown",
   "id": "e1ee7ba7",
   "metadata": {},
   "source": [
    "8.\tReescreva o programa acima criando uma função bhaskara que recebe como parâmetros os coeficientes a, b e c e retorna as raízes da equação. "
   ]
  },
  {
   "cell_type": "code",
   "execution_count": 108,
   "id": "886cf93a",
   "metadata": {},
   "outputs": [],
   "source": [
    "def bhaskara (a, b, c):\n",
    "    delta = b ** 2 - 4 * a * c\n",
    "    if delta < 0:\n",
    "        return None\n",
    "    else:\n",
    "        raizes = []\n",
    "        m1 = math.sqrt(delta)\n",
    "        r1 = (-b + m1) / (2 * a)\n",
    "        raizes.append(r1)\n",
    "        r2 = (-b - m1) / (2 * a)\n",
    "        raizes.append(r2)\n",
    "        return raizes"
   ]
  },
  {
   "cell_type": "markdown",
   "id": "fc4fa2e6",
   "metadata": {},
   "source": [
    "#### respondendo as perguntas do PDF\n",
    "a) Palavras reservadas são palavras que não podem ser usadas como nome de variaveis ou funções para evitar conflitos e erros no código. Acima temos como exemplo (def, if, return, None, else)\n",
    "\n",
    "b) As funções de das palavras são:\n",
    "    def = criar uma função\n",
    "    if = abre a checagem de uma condição\n",
    "    return = encerra a execução de uma função e retorna o resultado para o controle da chamada\n",
    "    None = Retorna como branco(nulo) o resultado da função\n",
    "    else = executada quando a confição if retorna false    \n"
   ]
  },
  {
   "cell_type": "code",
   "execution_count": 109,
   "id": "42c80212",
   "metadata": {},
   "outputs": [
    {
     "data": {
      "text/plain": [
       "[3.0, 2.0]"
      ]
     },
     "execution_count": 109,
     "metadata": {},
     "output_type": "execute_result"
    }
   ],
   "source": [
    "bhaskara (1, -5 ,6)"
   ]
  },
  {
   "cell_type": "markdown",
   "id": "14cc4b5b",
   "metadata": {},
   "source": [
    "9.\t Considerando a string s = 'Mentorama' escreva um programa que: \n",
    "a) converta a string para maiúsculo, em seguida \n",
    "b) imprima-a de trás para frente \n",
    "c) imprima somente as vogais "
   ]
  },
  {
   "cell_type": "code",
   "execution_count": 110,
   "id": "607c34e3",
   "metadata": {},
   "outputs": [
    {
     "name": "stdout",
     "output_type": "stream",
     "text": [
      "MENTORAMA\n",
      "amarotneM\n",
      "['e', 'o', 'a', 'a']\n"
     ]
    }
   ],
   "source": [
    "s = 'Mentorama'\n",
    "a = print(s.upper())\n",
    "\n",
    "b =   s[::-1]\n",
    "print (b)\n",
    "\n",
    "c=[]\n",
    "for index, letra in enumerate(s):\n",
    "    if letra in \"aeiouAEIOU\":\n",
    "        c.append(letra)\n",
    "print (c)\n",
    "        \n"
   ]
  },
  {
   "cell_type": "markdown",
   "id": "86cbc38d",
   "metadata": {},
   "source": [
    "10.\tEscreva um programa que pergunte o valor inicial de uma dívida e o juros mensal. Pergunte também o valor mensal que será pago. Imprima o número de meses para que a dívida seja paga, o total pago e o total de juros a pago.\n"
   ]
  },
  {
   "cell_type": "code",
   "execution_count": 111,
   "id": "a73e4dfc",
   "metadata": {},
   "outputs": [
    {
     "name": "stdout",
     "output_type": "stream",
     "text": [
      "Qual o valor da divida: 1000\n",
      "Digite a taxa de juros mensal: 1\n",
      "Qual o valor mensal que deseja pagar: 200\n",
      "O número de meses é de : 6\n",
      "O valor pago em Juros foi de :: 20.000049999999998\n",
      "O valor total pago foi de :: 1020.00005\n"
     ]
    }
   ],
   "source": [
    "## dados informados pelo usuário\n",
    "saldo_ini = int(input(\"Qual o valor da divida: \"))\n",
    "juros_mensal = int(input(\"Digite a taxa de juros mensal: \"))\n",
    "pagamento = int(input(\"Qual o valor mensal que deseja pagar: \"))\n",
    "\n",
    "## variaveis que vão incrementar o juros e qtde parcelas\n",
    "juros_pago =0\n",
    "meses=1\n",
    "\n",
    "juros = saldo * (juros_mensal/100)\n",
    "\n",
    "saldo = saldo_ini + juros\n",
    "\n",
    "while saldo > pagamento:\n",
    "    saldo = saldo - pagamento\n",
    "    juros = saldo * (juros_mensal/100)\n",
    "    meses = meses + 1\n",
    "    juros_pago = juros_pago + juros\n",
    "    juros = saldo * (juros_mensal/100)\n",
    "\n",
    "print (\"O número de meses é de :\", meses)\n",
    "print (\"O valor pago em Juros foi de ::\", juros_pago)\n",
    "print (\"O valor total pago foi de ::\", juros_pago + saldo_ini)\n",
    "           \n",
    "\n",
    "    \n"
   ]
  },
  {
   "cell_type": "code",
   "execution_count": null,
   "id": "e238e2b2",
   "metadata": {},
   "outputs": [],
   "source": []
  }
 ],
 "metadata": {
  "kernelspec": {
   "display_name": "Python 3",
   "language": "python",
   "name": "python3"
  },
  "language_info": {
   "codemirror_mode": {
    "name": "ipython",
    "version": 3
   },
   "file_extension": ".py",
   "mimetype": "text/x-python",
   "name": "python",
   "nbconvert_exporter": "python",
   "pygments_lexer": "ipython3",
   "version": "3.8.8"
  }
 },
 "nbformat": 4,
 "nbformat_minor": 5
}
