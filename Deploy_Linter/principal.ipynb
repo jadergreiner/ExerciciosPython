{
 "cells": [
  {
   "cell_type": "markdown",
   "id": "6ac9a704",
   "metadata": {},
   "source": [
    "## Orientações de execução\n",
    "\n",
    "* Neste arquivo do Jupiter vai fazer a impressão conforme os múltiplos\n",
    "\n",
    "* Para fazer o teste unitário, executar o teste_multiplos.py\n",
    "* meu teste executei dentro do Pycharm\n"
   ]
  },
  {
   "cell_type": "code",
   "execution_count": 14,
   "id": "c9071ca0",
   "metadata": {},
   "outputs": [
    {
     "name": "stdout",
     "output_type": "stream",
     "text": [
      "Informe um número natural3\n",
      "miss\n"
     ]
    }
   ],
   "source": [
    "from multiplos import multiplo5, multiplo7\n",
    "numero = int(input('Informe um número natural'))\n",
    "\n",
    "if multiplo5(numero) and multiplo7(numero):\n",
    "    True\n",
    "    print('fizzbuzz')\n",
    "    \n",
    "elif multiplo5(numero):\n",
    "    True\n",
    "    print('fizz')\n",
    "\n",
    "elif multiplo7(numero):\n",
    "    True\n",
    "    print('buzz')\n",
    "else:\n",
    "    print('miss')"
   ]
  }
 ],
 "metadata": {
  "kernelspec": {
   "display_name": "Python 3",
   "language": "python",
   "name": "python3"
  },
  "language_info": {
   "codemirror_mode": {
    "name": "ipython",
    "version": 3
   },
   "file_extension": ".py",
   "mimetype": "text/x-python",
   "name": "python",
   "nbconvert_exporter": "python",
   "pygments_lexer": "ipython3",
   "version": "3.8.8"
  }
 },
 "nbformat": 4,
 "nbformat_minor": 5
}
