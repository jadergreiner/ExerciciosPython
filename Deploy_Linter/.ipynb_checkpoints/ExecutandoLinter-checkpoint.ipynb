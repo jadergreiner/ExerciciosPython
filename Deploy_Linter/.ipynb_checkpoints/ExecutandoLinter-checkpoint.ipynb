{
 "cells": [
  {
   "cell_type": "markdown",
   "id": "b5f2d844",
   "metadata": {},
   "source": [
    "# Instalando as bibliotecas de Linter (caso necessário)"
   ]
  },
  {
   "cell_type": "code",
   "execution_count": 1,
   "id": "e50a7b12",
   "metadata": {},
   "outputs": [],
   "source": [
    "#pip install pylint"
   ]
  },
  {
   "cell_type": "code",
   "execution_count": 2,
   "id": "6ffad963",
   "metadata": {},
   "outputs": [],
   "source": [
    "#pip install pycodestyle"
   ]
  },
  {
   "cell_type": "code",
   "execution_count": 4,
   "id": "71c53bc4",
   "metadata": {},
   "outputs": [
    {
     "name": "stdout",
     "output_type": "stream",
     "text": [
      "************* Module multiplos\n",
      "multiplos.py:1:0: C0114: Missing module docstring (missing-module-docstring)\n",
      "multiplos.py:6:4: R1703: The if statement can be replaced with 'var = bool(test)' (simplifiable-if-statement)\n",
      "multiplos.py:17:4: R1703: The if statement can be replaced with 'var = bool(test)' (simplifiable-if-statement)\n",
      "\n",
      "------------------------------------------------------------------\n",
      "\n",
      "Your code has been rated at 7.00/10 (previous run: 0.00/10, +7.00)\n",
      "\n",
      "\n",
      "\n"
     ]
    }
   ],
   "source": [
    "# realizando o linter em nosso arquivo\n",
    "!python -m pylint multiplos.py"
   ]
  },
  {
   "cell_type": "code",
   "execution_count": 5,
   "id": "edb38197",
   "metadata": {},
   "outputs": [],
   "source": [
    "!python -m pycodestyle multiplos.py"
   ]
  },
  {
   "cell_type": "code",
   "execution_count": null,
   "id": "3f946245",
   "metadata": {},
   "outputs": [],
   "source": []
  }
 ],
 "metadata": {
  "kernelspec": {
   "display_name": "Python 3",
   "language": "python",
   "name": "python3"
  },
  "language_info": {
   "codemirror_mode": {
    "name": "ipython",
    "version": 3
   },
   "file_extension": ".py",
   "mimetype": "text/x-python",
   "name": "python",
   "nbconvert_exporter": "python",
   "pygments_lexer": "ipython3",
   "version": "3.8.8"
  }
 },
 "nbformat": 4,
 "nbformat_minor": 5
}
